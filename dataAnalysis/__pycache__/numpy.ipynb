{
 "cells": [
  {
   "cell_type": "code",
   "execution_count": 3,
   "id": "52788bd4",
   "metadata": {},
   "outputs": [
    {
     "name": "stdout",
     "output_type": "stream",
     "text": [
      "[1 3 4 5 6]\n",
      "(5,)\n"
     ]
    }
   ],
   "source": [
    "import numpy as np\n",
    "arr= np.array([1,3,4,5,6])\n",
    "print(arr)\n",
    "print(arr.shape)"
   ]
  },
  {
   "cell_type": "code",
   "execution_count": 5,
   "id": "25236979",
   "metadata": {},
   "outputs": [
    {
     "data": {
      "text/plain": [
       "array([[1, 3, 4, 5, 6]])"
      ]
     },
     "execution_count": 5,
     "metadata": {},
     "output_type": "execute_result"
    }
   ],
   "source": [
    "arr1=np.array([1,3,4,5,6])\n",
    "arr1.reshape(1,5)"
   ]
  },
  {
   "cell_type": "code",
   "execution_count": null,
   "id": "008025b7",
   "metadata": {},
   "outputs": [
    {
     "name": "stdout",
     "output_type": "stream",
     "text": [
      "(2, 5)\n",
      "[[1 2 3 4 5]\n",
      " [2 3 4 5 6]]\n"
     ]
    }
   ],
   "source": [
    "#2d array\n",
    "arr2=np.array([[1,2,3,4,5],[2,3,4,5,6]])\n",
    "print(arr2.shape)\n",
    "print(arr2)"
   ]
  },
  {
   "cell_type": "code",
   "execution_count": 18,
   "id": "84ed3410",
   "metadata": {},
   "outputs": [
    {
     "data": {
      "text/plain": [
       "array([[0, 2, 4, 6, 8]])"
      ]
     },
     "execution_count": 18,
     "metadata": {},
     "output_type": "execute_result"
    }
   ],
   "source": [
    "np.arange(0,10,2).reshape(1,5)#creating array in range 0 to 10 skipping every next element and further reshaped it"
   ]
  },
  {
   "cell_type": "code",
   "execution_count": 22,
   "id": "e4b76496",
   "metadata": {},
   "outputs": [
    {
     "data": {
      "text/plain": [
       "array([[1., 1., 1., 1., 1.],\n",
       "       [1., 1., 1., 1., 1.],\n",
       "       [1., 1., 1., 1., 1.]])"
      ]
     },
     "execution_count": 22,
     "metadata": {},
     "output_type": "execute_result"
    }
   ],
   "source": [
    "np.ones((3,5))"
   ]
  },
  {
   "cell_type": "code",
   "execution_count": 27,
   "id": "8f1d7c9a",
   "metadata": {},
   "outputs": [
    {
     "data": {
      "text/plain": [
       "array([[1., 0., 0., 0., 0.],\n",
       "       [0., 1., 0., 0., 0.],\n",
       "       [0., 0., 1., 0., 0.],\n",
       "       [0., 0., 0., 1., 0.],\n",
       "       [0., 0., 0., 0., 1.]])"
      ]
     },
     "execution_count": 27,
     "metadata": {},
     "output_type": "execute_result"
    }
   ],
   "source": [
    "#identity matrix\n",
    "np.eye((5))"
   ]
  },
  {
   "cell_type": "code",
   "execution_count": 33,
   "id": "6821f9f0",
   "metadata": {},
   "outputs": [
    {
     "name": "stdout",
     "output_type": "stream",
     "text": [
      "[[1 2 3 4 5]\n",
      " [3 5 6 7 8]]\n",
      "(2, 5)\n",
      "2\n",
      "10\n",
      "int32\n",
      "4\n"
     ]
    }
   ],
   "source": [
    "#attributes of nympy\n",
    "arr4= np.array([[1,2,3,4,5],[3,5,6,7,8]])\n",
    "print(arr4)\n",
    "print(arr4.shape)\n",
    "print(arr4.ndim)\n",
    "print(arr4.size)\n",
    "print(arr4.dtype)\n",
    "print(arr4.itemsize)"
   ]
  },
  {
   "cell_type": "code",
   "execution_count": 37,
   "id": "a8ad34f6",
   "metadata": {},
   "outputs": [
    {
     "name": "stdout",
     "output_type": "stream",
     "text": [
      "Addition: [ 3  5  7  9 11]\n",
      "substraciton [-1 -1 -1 -1 -1]\n"
     ]
    }
   ],
   "source": [
    "#numpy vectorized opreration\n",
    "arr1=np.array([1,2,3,4,5])\n",
    "arr2=np.array([2,3,4,5,6])\n",
    "print(\"Addition:\", arr1+arr2)\n",
    "#element wise substraction\n",
    "print(\"substraciton\",arr1-arr2)"
   ]
  },
  {
   "cell_type": "code",
   "execution_count": null,
   "id": "632db718",
   "metadata": {},
   "outputs": [
    {
     "name": "stdout",
     "output_type": "stream",
     "text": [
      "[1.73205081 2.         2.23606798 2.44948974 2.44948974]\n",
      "[ 0.14112001 -0.7568025  -0.95892427 -0.2794155  -0.2794155 ]\n",
      "[ 20.08553692  54.59815003 148.4131591  403.42879349 403.42879349]\n",
      "[1.09861229 1.38629436 1.60943791 1.79175947 1.79175947]\n"
     ]
    }
   ],
   "source": [
    "#universal function\n",
    "arr=np.array([3,4,5,6,6])\n",
    "#square root\n",
    "print(np.sqrt(arr))\n",
    "#sine\n",
    "print(np.sin(arr))\n",
    "#exponential\n",
    "print(np.exp(arr))\n",
    "#natural log\n",
    "print(np.log(arr))"
   ]
  },
  {
   "cell_type": "code",
   "execution_count": 51,
   "id": "ed1c15bf",
   "metadata": {},
   "outputs": [
    {
     "name": "stdout",
     "output_type": "stream",
     "text": [
      "[[2 3 4 5 6]\n",
      " [3 2 4 5 6]\n",
      " [2 4 6 8 9]]\n",
      "[2 3 4 5 6]\n",
      "2\n",
      "[[4 5 6]\n",
      " [6 8 9]]\n"
     ]
    }
   ],
   "source": [
    "#slicing operation\n",
    "arr=np.array([[2,3,4,5,6],[3,2,4,5,6],[2,4,6,8,9]])\n",
    "print(arr)\n",
    "print(arr[0])\n",
    "print(arr[0][0])\n",
    "print(arr[1:,2:])#first sliced row form index 1 and column from index 2 to end"
   ]
  },
  {
   "cell_type": "code",
   "execution_count": 56,
   "id": "359f9264",
   "metadata": {},
   "outputs": [
    {
     "name": "stdout",
     "output_type": "stream",
     "text": [
      "2\n",
      "[[4 5 6]\n",
      " [4 5 6]]\n",
      "[[2 4 5]\n",
      " [4 6 8]]\n"
     ]
    }
   ],
   "source": [
    "print(arr[0][0])\n",
    "print(arr[0:2,2:])\n",
    "print(arr[1:,1:4])"
   ]
  },
  {
   "cell_type": "code",
   "execution_count": 58,
   "id": "d0f2f6f2",
   "metadata": {},
   "outputs": [
    {
     "name": "stdout",
     "output_type": "stream",
     "text": [
      "[[100   3   4   5   6]\n",
      " [  3   2   4   5   6]\n",
      " [  2   4   6   8   9]]\n"
     ]
    }
   ],
   "source": [
    "#modify array elements\n",
    "arr[0,0]=100\n",
    "print(arr)"
   ]
  },
  {
   "cell_type": "code",
   "execution_count": 62,
   "id": "8bd59213",
   "metadata": {},
   "outputs": [
    {
     "name": "stdout",
     "output_type": "stream",
     "text": [
      "[-1.62746694 -0.46499055  0.11624764  0.69748583  1.27872403]\n",
      "1.7204650534085253\n",
      "2.96\n",
      "4.0\n"
     ]
    }
   ],
   "source": [
    "#statistical concept->Normalization\n",
    "arr=np.array([1,3,4,5,6])\n",
    "mean= np.mean(arr)\n",
    "std_dev=np.std(arr)\n",
    "normalized_data=(arr-mean)/std_dev\n",
    "print(normalized_data)\n",
    "print(np.std(arr))\n",
    "print(np.var(arr))\n",
    "print(np.median(arr))"
   ]
  },
  {
   "cell_type": "code",
   "execution_count": null,
   "id": "c7ce9b3e",
   "metadata": {},
   "outputs": [
    {
     "name": "stdout",
     "output_type": "stream",
     "text": [
      "[6 7 8]\n",
      "[1 2 3 4 5 6 7 8]\n"
     ]
    }
   ],
   "source": [
    "#logical operation\n",
    "data=np.array([1,2,3,4,5,6,7,8])\n",
    "print(data[(data>5) & (data<=8)])\n",
    "print(data[(data>5) | (data<=8)])S\n",
    "\n"
   ]
  }
 ],
 "metadata": {
  "kernelspec": {
   "display_name": "base",
   "language": "python",
   "name": "python3"
  },
  "language_info": {
   "codemirror_mode": {
    "name": "ipython",
    "version": 3
   },
   "file_extension": ".py",
   "mimetype": "text/x-python",
   "name": "python",
   "nbconvert_exporter": "python",
   "pygments_lexer": "ipython3",
   "version": "3.12.7"
  }
 },
 "nbformat": 4,
 "nbformat_minor": 5
}
