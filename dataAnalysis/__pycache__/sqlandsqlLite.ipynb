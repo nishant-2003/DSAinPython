{
 "cells": [
  {
   "cell_type": "code",
   "execution_count": 2,
   "id": "b0fad4bf",
   "metadata": {},
   "outputs": [],
   "source": [
    "import sqlite3"
   ]
  },
  {
   "cell_type": "code",
   "execution_count": 4,
   "id": "f979f46d",
   "metadata": {},
   "outputs": [
    {
     "data": {
      "text/plain": [
       "<sqlite3.Connection at 0x287d6a98310>"
      ]
     },
     "execution_count": 4,
     "metadata": {},
     "output_type": "execute_result"
    }
   ],
   "source": [
    "#connet to an sqlite db\n",
    "connection=sqlite3.connect(\"example.db\")\n",
    "connection"
   ]
  },
  {
   "cell_type": "code",
   "execution_count": 6,
   "id": "b12e9e9d",
   "metadata": {},
   "outputs": [],
   "source": [
    "cursor=connection.cursor()\n"
   ]
  },
  {
   "cell_type": "code",
   "execution_count": 8,
   "id": "56e7a688",
   "metadata": {},
   "outputs": [],
   "source": [
    "#create a table\n",
    "cursor.execute(\"\"\"\n",
    "    create Table If Not EXists employees(\n",
    "        id Integer Primary Key,\n",
    "        name Text Not Null,\n",
    "        age Integer,\n",
    "        department Text\n",
    "        )\n",
    "    \"\"\")\n",
    "##commit the changes\n",
    "connection.commit()"
   ]
  },
  {
   "cell_type": "code",
   "execution_count": 11,
   "id": "378201b3",
   "metadata": {},
   "outputs": [
    {
     "data": {
      "text/plain": [
       "<sqlite3.Cursor at 0x287d6aad6c0>"
      ]
     },
     "execution_count": 11,
     "metadata": {},
     "output_type": "execute_result"
    }
   ],
   "source": [
    "cursor.execute('''\n",
    "               Select * from employees\n",
    "               ''')"
   ]
  },
  {
   "cell_type": "code",
   "execution_count": 15,
   "id": "2b873de6",
   "metadata": {},
   "outputs": [],
   "source": [
    "#insert the data in table\n",
    "cursor.execute(\"\"\"\n",
    "               insert into employees(name,age,department)\n",
    "                values(\"Nishant\", \"22\", \"Engineering\")\n",
    "    \"\"\")\n",
    "connection.commit()"
   ]
  },
  {
   "cell_type": "code",
   "execution_count": 17,
   "id": "29a045da",
   "metadata": {},
   "outputs": [
    {
     "name": "stdout",
     "output_type": "stream",
     "text": [
      "(1, 'Nishant', 22, 'Engineering')\n",
      "(2, 'Nishant', 22, 'Engineering')\n"
     ]
    }
   ],
   "source": [
    "cursor.execute(\n",
    "    \"\"\"select * from employees\"\"\"\n",
    ")\n",
    "rows=cursor.fetchall()\n",
    "#print the data\n",
    "for row in rows:\n",
    "    print(row)"
   ]
  },
  {
   "cell_type": "code",
   "execution_count": 22,
   "id": "2d00bf2b",
   "metadata": {},
   "outputs": [],
   "source": [
    "#update the data\n",
    "cursor.execute(\n",
    "    \"\"\" update employees\n",
    "    set age=25 where name=\"Nishant\"\n",
    "    \"\"\"\n",
    ")\n",
    "connection.commit()\n"
   ]
  },
  {
   "cell_type": "code",
   "execution_count": 25,
   "id": "151518b4",
   "metadata": {},
   "outputs": [
    {
     "name": "stdout",
     "output_type": "stream",
     "text": [
      "(1, 'Nishant', 25, 'Engineering')\n",
      "(2, 'Nishant', 25, 'Engineering')\n"
     ]
    }
   ],
   "source": [
    "cursor.execute(\n",
    "    \"\"\"select * from employees\"\"\"\n",
    ")\n",
    "rows=cursor.fetchall()\n",
    "for row in rows:\n",
    "    print(row)"
   ]
  },
  {
   "cell_type": "code",
   "execution_count": 27,
   "id": "71cdeb99",
   "metadata": {},
   "outputs": [],
   "source": [
    "#delete the data\n",
    "cursor.execute(\n",
    "    \"\"\"Delete from employees where name='Nishant' \"\"\"\n",
    ")\n",
    "connection.commit()"
   ]
  },
  {
   "cell_type": "code",
   "execution_count": 30,
   "id": "8f27d185",
   "metadata": {},
   "outputs": [],
   "source": [
    "cursor.execute(\n",
    "    \"\"\"select * from employees\"\"\"\n",
    ")\n",
    "rows=cursor.fetchall()\n",
    "for row in rows:\n",
    "    print(row)"
   ]
  },
  {
   "cell_type": "code",
   "execution_count": 63,
   "id": "e8466d75",
   "metadata": {},
   "outputs": [
    {
     "ename": "OperationalError",
     "evalue": "table sales already exists",
     "output_type": "error",
     "traceback": [
      "\u001b[1;31m---------------------------------------------------------------------------\u001b[0m",
      "\u001b[1;31mOperationalError\u001b[0m                          Traceback (most recent call last)",
      "Cell \u001b[1;32mIn[63], line 5\u001b[0m\n\u001b[0;32m      2\u001b[0m connections\u001b[38;5;241m=\u001b[39m sqlite3\u001b[38;5;241m.\u001b[39mconnect(\u001b[38;5;124m\"\u001b[39m\u001b[38;5;124msales.db\u001b[39m\u001b[38;5;124m\"\u001b[39m)\n\u001b[0;32m      3\u001b[0m cursor \u001b[38;5;241m=\u001b[39m connections\u001b[38;5;241m.\u001b[39mcursor()\n\u001b[1;32m----> 5\u001b[0m cursor\u001b[38;5;241m.\u001b[39mexecute(\u001b[38;5;124m\"\"\"\u001b[39m\n\u001b[0;32m      6\u001b[0m \u001b[38;5;124m    CREATE TABLE sales (\u001b[39m\n\u001b[0;32m      7\u001b[0m \u001b[38;5;124m        id INTEGER PRIMARY KEY,\u001b[39m\n\u001b[0;32m      8\u001b[0m \u001b[38;5;124m        date TEXT NOT NULL,\u001b[39m\n\u001b[0;32m      9\u001b[0m \u001b[38;5;124m        product TEXT NOT NULL,\u001b[39m\n\u001b[0;32m     10\u001b[0m \u001b[38;5;124m        sales INTEGER,\u001b[39m\n\u001b[0;32m     11\u001b[0m \u001b[38;5;124m        region TEXT\u001b[39m\n\u001b[0;32m     12\u001b[0m \u001b[38;5;124m    )\u001b[39m\n\u001b[0;32m     13\u001b[0m \u001b[38;5;124m\"\"\"\u001b[39m)\n\u001b[0;32m     15\u001b[0m sales \u001b[38;5;241m=\u001b[39m [\n\u001b[0;32m     16\u001b[0m     (\u001b[38;5;241m1\u001b[39m, \u001b[38;5;124m'\u001b[39m\u001b[38;5;124m1/1\u001b[39m\u001b[38;5;124m'\u001b[39m, \u001b[38;5;124m'\u001b[39m\u001b[38;5;124mprod1\u001b[39m\u001b[38;5;124m'\u001b[39m, \u001b[38;5;241m100\u001b[39m, \u001b[38;5;124m\"\u001b[39m\u001b[38;5;124mnorth\u001b[39m\u001b[38;5;124m\"\u001b[39m),\n\u001b[0;32m     17\u001b[0m     (\u001b[38;5;241m2\u001b[39m, \u001b[38;5;124m'\u001b[39m\u001b[38;5;124m1/2\u001b[39m\u001b[38;5;124m'\u001b[39m, \u001b[38;5;124m'\u001b[39m\u001b[38;5;124mprod2\u001b[39m\u001b[38;5;124m'\u001b[39m, \u001b[38;5;241m200\u001b[39m, \u001b[38;5;124m\"\u001b[39m\u001b[38;5;124meast\u001b[39m\u001b[38;5;124m\"\u001b[39m),\n\u001b[1;32m   (...)\u001b[0m\n\u001b[0;32m     20\u001b[0m     (\u001b[38;5;241m5\u001b[39m, \u001b[38;5;124m'\u001b[39m\u001b[38;5;124m1/5\u001b[39m\u001b[38;5;124m'\u001b[39m, \u001b[38;5;124m'\u001b[39m\u001b[38;5;124mprod5\u001b[39m\u001b[38;5;124m'\u001b[39m, \u001b[38;5;241m500\u001b[39m, \u001b[38;5;124m\"\u001b[39m\u001b[38;5;124mwest\u001b[39m\u001b[38;5;124m\"\u001b[39m),\n\u001b[0;32m     21\u001b[0m ]\n\u001b[0;32m     23\u001b[0m cursor\u001b[38;5;241m.\u001b[39mexecutemany(\n\u001b[0;32m     24\u001b[0m     \u001b[38;5;124m\"\u001b[39m\u001b[38;5;124mINSERT INTO sales (id, date, product, sales, region) VALUES (?, ?, ?, ?, ?)\u001b[39m\u001b[38;5;124m\"\u001b[39m,\n\u001b[0;32m     25\u001b[0m     sales\n\u001b[0;32m     26\u001b[0m )\n",
      "\u001b[1;31mOperationalError\u001b[0m: table sales already exists"
     ]
    }
   ],
   "source": [
    "#working with sales data\n",
    "connections= sqlite3.connect(\"sales.db\")\n",
    "cursor = connections.cursor()\n",
    "\n",
    "cursor.execute(\"\"\"\n",
    "    CREATE TABLE sales (\n",
    "        id INTEGER PRIMARY KEY,\n",
    "        date TEXT NOT NULL,\n",
    "        product TEXT NOT NULL,\n",
    "        sales INTEGER,\n",
    "        region TEXT\n",
    "    )\n",
    "\"\"\")\n",
    "\n",
    "sales = [\n",
    "    (1, '1/1', 'prod1', 100, \"north\"),\n",
    "    (2, '1/2', 'prod2', 200, \"east\"),\n",
    "    (3, '1/3', 'prod3', 300, \"south\"),\n",
    "    (4, '1/4', 'prod4', 400, \"south\"),\n",
    "    (5, '1/5', 'prod5', 500, \"west\"),\n",
    "]\n",
    "\n",
    "cursor.executemany(\n",
    "    \"INSERT INTO sales (id, date, product, sales, region) VALUES (?, ?, ?, ?, ?)\",\n",
    "    sales\n",
    ")\n",
    "connections.commit()\n"
   ]
  },
  {
   "cell_type": "code",
   "execution_count": 65,
   "id": "0e4b159a",
   "metadata": {},
   "outputs": [
    {
     "name": "stdout",
     "output_type": "stream",
     "text": [
      "(1, '1/1', 'prod1', 100, 'north')\n",
      "(2, '1/2', 'prod2', 200, 'east')\n",
      "(3, '1/3', 'prod3', 300, 'south')\n",
      "(4, '1/4', 'prod4', 400, 'south')\n",
      "(5, '1/5', 'prod5', 500, 'west')\n"
     ]
    }
   ],
   "source": [
    "cursor.execute(\"select * from sales\")\n",
    "rows=cursor.fetchall()\n",
    "for row in rows:\n",
    "    print(row)"
   ]
  },
  {
   "cell_type": "code",
   "execution_count": 66,
   "id": "d3e57c97",
   "metadata": {},
   "outputs": [],
   "source": [
    "#close the connection\n",
    "connection.close()"
   ]
  }
 ],
 "metadata": {
  "kernelspec": {
   "display_name": "base",
   "language": "python",
   "name": "python3"
  },
  "language_info": {
   "codemirror_mode": {
    "name": "ipython",
    "version": 3
   },
   "file_extension": ".py",
   "mimetype": "text/x-python",
   "name": "python",
   "nbconvert_exporter": "python",
   "pygments_lexer": "ipython3",
   "version": "3.12.7"
  }
 },
 "nbformat": 4,
 "nbformat_minor": 5
}
