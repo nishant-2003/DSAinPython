{
 "cells": [
  {
   "cell_type": "code",
   "execution_count": 2,
   "id": "436f3386",
   "metadata": {},
   "outputs": [
    {
     "name": "stdout",
     "output_type": "stream",
     "text": [
      "variable is not assigned\n"
     ]
    }
   ],
   "source": [
    "##Excpeiton Handling\n",
    "try:\n",
    "    a=b\n",
    "except:\n",
    "    print(\"variable is not assigned\")"
   ]
  },
  {
   "cell_type": "code",
   "execution_count": 4,
   "id": "0a687569",
   "metadata": {},
   "outputs": [
    {
     "name": "stdout",
     "output_type": "stream",
     "text": [
      "name 'b' is not defined\n"
     ]
    }
   ],
   "source": [
    "##Excpeiton Handling\n",
    "try:\n",
    "    a=b\n",
    "except NameError as ex:\n",
    "    print(ex)"
   ]
  },
  {
   "cell_type": "code",
   "execution_count": 9,
   "id": "0c7758a7",
   "metadata": {},
   "outputs": [
    {
     "name": "stdout",
     "output_type": "stream",
     "text": [
      "name 'b' is not defined\n",
      "Name is not defined\n"
     ]
    }
   ],
   "source": [
    "try:\n",
    "    result = 10/1\n",
    "    a=b\n",
    "except ZeroDivisionError as ex:\n",
    "    print(ex)\n",
    "    print(\"enter denominator greater than 0\")\n",
    "except Exception as ex:\n",
    "    print(ex)\n",
    "    print(\"Name is not defined\")"
   ]
  },
  {
   "cell_type": "code",
   "execution_count": null,
   "id": "02bc78ab",
   "metadata": {},
   "outputs": [],
   "source": [
    "try:\n",
    "    num=int(input(\"Enter the number\"))\n",
    "    result=10/num\n",
    "except ValueError:\n",
    "    print(\"This is not valid number\")\n",
    "except ZeroDivisionError:\n",
    "    print(\"denominator must be greater than zero\")"
   ]
  },
  {
   "cell_type": "code",
   "execution_count": null,
   "id": "111ca4f1",
   "metadata": {},
   "outputs": [],
   "source": []
  },
  {
   "cell_type": "code",
   "execution_count": 6,
   "id": "7ede3b68",
   "metadata": {},
   "outputs": [
    {
     "name": "stdout",
     "output_type": "stream",
     "text": [
      "denominator must be greater than zero\n"
     ]
    }
   ],
   "source": [
    "try:\n",
    "    num=int(input(\"Enter the number\"))\n",
    "    result=10/num\n",
    "except ValueError:\n",
    "    print(\"This is not valid number\")\n",
    "except ZeroDivisionError:\n",
    "    print(\"denominator must be greater than zero\")\n",
    "else:\n",
    "    print(f\"The result is {result}\")"
   ]
  },
  {
   "cell_type": "code",
   "execution_count": null,
   "id": "494ed89b",
   "metadata": {},
   "outputs": [],
   "source": []
  }
 ],
 "metadata": {
  "kernelspec": {
   "display_name": "base",
   "language": "python",
   "name": "python3"
  },
  "language_info": {
   "codemirror_mode": {
    "name": "ipython",
    "version": 3
   },
   "file_extension": ".py",
   "mimetype": "text/x-python",
   "name": "python",
   "nbconvert_exporter": "python",
   "pygments_lexer": "ipython3",
   "version": "3.12.7"
  }
 },
 "nbformat": 4,
 "nbformat_minor": 5
}
